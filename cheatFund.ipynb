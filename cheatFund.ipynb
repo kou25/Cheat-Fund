{
  "nbformat": 4,
  "nbformat_minor": 0,
  "metadata": {
    "colab": {
      "name": "cheatFund.ipynb",
      "provenance": []
    },
    "kernelspec": {
      "name": "python3",
      "display_name": "Python 3"
    }
  },
  "cells": [
    {
      "cell_type": "code",
      "metadata": {
        "id": "4B7Kk9HewG7x",
        "colab_type": "code",
        "colab": {}
      },
      "source": [
        "import numpy as np\n",
        "import pandas as pd\n",
        "import seaborn as sns\n",
        "import matplotlib.pyplot as plt"
      ],
      "execution_count": 0,
      "outputs": []
    },
    {
      "cell_type": "markdown",
      "metadata": {
        "id": "J2SnVyBBw06s",
        "colab_type": "text"
      },
      "source": [
        "Loading data"
      ]
    },
    {
      "cell_type": "code",
      "metadata": {
        "id": "Mx4UDyEYwzYm",
        "colab_type": "code",
        "colab": {
          "base_uri": "https://localhost:8080/",
          "height": 360
        },
        "outputId": "e6567287-a728-4b3b-d510-cf61a353b233"
      },
      "source": [
        "data=pd.read_excel(\"Exercise Data.xlsx\")\n",
        "data.head(10)"
      ],
      "execution_count": 2,
      "outputs": [
        {
          "output_type": "execute_result",
          "data": {
            "text/html": [
              "<div>\n",
              "<style scoped>\n",
              "    .dataframe tbody tr th:only-of-type {\n",
              "        vertical-align: middle;\n",
              "    }\n",
              "\n",
              "    .dataframe tbody tr th {\n",
              "        vertical-align: top;\n",
              "    }\n",
              "\n",
              "    .dataframe thead th {\n",
              "        text-align: right;\n",
              "    }\n",
              "</style>\n",
              "<table border=\"1\" class=\"dataframe\">\n",
              "  <thead>\n",
              "    <tr style=\"text-align: right;\">\n",
              "      <th></th>\n",
              "      <th>Month</th>\n",
              "      <th>Contribution</th>\n",
              "      <th>Amount won by the bidder</th>\n",
              "      <th>Chit fund organizer commission</th>\n",
              "      <th>Net amount recd by Bid winner</th>\n",
              "      <th>Amount returned to everyone in the group</th>\n",
              "    </tr>\n",
              "  </thead>\n",
              "  <tbody>\n",
              "    <tr>\n",
              "      <th>0</th>\n",
              "      <td>1</td>\n",
              "      <td>2000</td>\n",
              "      <td>40000</td>\n",
              "      <td>2500</td>\n",
              "      <td>37500</td>\n",
              "      <td>400</td>\n",
              "    </tr>\n",
              "    <tr>\n",
              "      <th>1</th>\n",
              "      <td>2</td>\n",
              "      <td>2000</td>\n",
              "      <td>42000</td>\n",
              "      <td>2500</td>\n",
              "      <td>39500</td>\n",
              "      <td>320</td>\n",
              "    </tr>\n",
              "    <tr>\n",
              "      <th>2</th>\n",
              "      <td>3</td>\n",
              "      <td>2000</td>\n",
              "      <td>45000</td>\n",
              "      <td>2500</td>\n",
              "      <td>42500</td>\n",
              "      <td>200</td>\n",
              "    </tr>\n",
              "    <tr>\n",
              "      <th>3</th>\n",
              "      <td>4</td>\n",
              "      <td>2000</td>\n",
              "      <td>48000</td>\n",
              "      <td>2500</td>\n",
              "      <td>45500</td>\n",
              "      <td>80</td>\n",
              "    </tr>\n",
              "    <tr>\n",
              "      <th>4</th>\n",
              "      <td>5</td>\n",
              "      <td>2000</td>\n",
              "      <td>40000</td>\n",
              "      <td>2500</td>\n",
              "      <td>37500</td>\n",
              "      <td>400</td>\n",
              "    </tr>\n",
              "    <tr>\n",
              "      <th>5</th>\n",
              "      <td>6</td>\n",
              "      <td>2000</td>\n",
              "      <td>42000</td>\n",
              "      <td>2500</td>\n",
              "      <td>39500</td>\n",
              "      <td>320</td>\n",
              "    </tr>\n",
              "    <tr>\n",
              "      <th>6</th>\n",
              "      <td>7</td>\n",
              "      <td>2000</td>\n",
              "      <td>43000</td>\n",
              "      <td>2500</td>\n",
              "      <td>40500</td>\n",
              "      <td>280</td>\n",
              "    </tr>\n",
              "    <tr>\n",
              "      <th>7</th>\n",
              "      <td>8</td>\n",
              "      <td>2000</td>\n",
              "      <td>44000</td>\n",
              "      <td>2500</td>\n",
              "      <td>41500</td>\n",
              "      <td>240</td>\n",
              "    </tr>\n",
              "    <tr>\n",
              "      <th>8</th>\n",
              "      <td>9</td>\n",
              "      <td>2000</td>\n",
              "      <td>40000</td>\n",
              "      <td>2500</td>\n",
              "      <td>37500</td>\n",
              "      <td>400</td>\n",
              "    </tr>\n",
              "    <tr>\n",
              "      <th>9</th>\n",
              "      <td>10</td>\n",
              "      <td>2000</td>\n",
              "      <td>42000</td>\n",
              "      <td>2500</td>\n",
              "      <td>39500</td>\n",
              "      <td>320</td>\n",
              "    </tr>\n",
              "  </tbody>\n",
              "</table>\n",
              "</div>"
            ],
            "text/plain": [
              "   Month  ...  Amount returned to everyone in the group\n",
              "0      1  ...                                       400\n",
              "1      2  ...                                       320\n",
              "2      3  ...                                       200\n",
              "3      4  ...                                        80\n",
              "4      5  ...                                       400\n",
              "5      6  ...                                       320\n",
              "6      7  ...                                       280\n",
              "7      8  ...                                       240\n",
              "8      9  ...                                       400\n",
              "9     10  ...                                       320\n",
              "\n",
              "[10 rows x 6 columns]"
            ]
          },
          "metadata": {
            "tags": []
          },
          "execution_count": 2
        }
      ]
    },
    {
      "cell_type": "code",
      "metadata": {
        "id": "fv3-HWcyxB98",
        "colab_type": "code",
        "colab": {
          "base_uri": "https://localhost:8080/",
          "height": 301
        },
        "outputId": "d80a9509-941a-4a14-feac-5d4ccd5c1bbc"
      },
      "source": [
        "data.describe()"
      ],
      "execution_count": 3,
      "outputs": [
        {
          "output_type": "execute_result",
          "data": {
            "text/html": [
              "<div>\n",
              "<style scoped>\n",
              "    .dataframe tbody tr th:only-of-type {\n",
              "        vertical-align: middle;\n",
              "    }\n",
              "\n",
              "    .dataframe tbody tr th {\n",
              "        vertical-align: top;\n",
              "    }\n",
              "\n",
              "    .dataframe thead th {\n",
              "        text-align: right;\n",
              "    }\n",
              "</style>\n",
              "<table border=\"1\" class=\"dataframe\">\n",
              "  <thead>\n",
              "    <tr style=\"text-align: right;\">\n",
              "      <th></th>\n",
              "      <th>Month</th>\n",
              "      <th>Contribution</th>\n",
              "      <th>Amount won by the bidder</th>\n",
              "      <th>Chit fund organizer commission</th>\n",
              "      <th>Net amount recd by Bid winner</th>\n",
              "      <th>Amount returned to everyone in the group</th>\n",
              "    </tr>\n",
              "  </thead>\n",
              "  <tbody>\n",
              "    <tr>\n",
              "      <th>count</th>\n",
              "      <td>25.000000</td>\n",
              "      <td>25.0</td>\n",
              "      <td>25.000000</td>\n",
              "      <td>25.0</td>\n",
              "      <td>25.000000</td>\n",
              "      <td>25.000000</td>\n",
              "    </tr>\n",
              "    <tr>\n",
              "      <th>mean</th>\n",
              "      <td>13.000000</td>\n",
              "      <td>2000.0</td>\n",
              "      <td>43800.000000</td>\n",
              "      <td>2500.0</td>\n",
              "      <td>41300.000000</td>\n",
              "      <td>248.000000</td>\n",
              "    </tr>\n",
              "    <tr>\n",
              "      <th>std</th>\n",
              "      <td>7.359801</td>\n",
              "      <td>0.0</td>\n",
              "      <td>2857.738033</td>\n",
              "      <td>0.0</td>\n",
              "      <td>2857.738033</td>\n",
              "      <td>114.309521</td>\n",
              "    </tr>\n",
              "    <tr>\n",
              "      <th>min</th>\n",
              "      <td>1.000000</td>\n",
              "      <td>2000.0</td>\n",
              "      <td>40000.000000</td>\n",
              "      <td>2500.0</td>\n",
              "      <td>37500.000000</td>\n",
              "      <td>0.000000</td>\n",
              "    </tr>\n",
              "    <tr>\n",
              "      <th>25%</th>\n",
              "      <td>7.000000</td>\n",
              "      <td>2000.0</td>\n",
              "      <td>42000.000000</td>\n",
              "      <td>2500.0</td>\n",
              "      <td>39500.000000</td>\n",
              "      <td>200.000000</td>\n",
              "    </tr>\n",
              "    <tr>\n",
              "      <th>50%</th>\n",
              "      <td>13.000000</td>\n",
              "      <td>2000.0</td>\n",
              "      <td>43000.000000</td>\n",
              "      <td>2500.0</td>\n",
              "      <td>40500.000000</td>\n",
              "      <td>280.000000</td>\n",
              "    </tr>\n",
              "    <tr>\n",
              "      <th>75%</th>\n",
              "      <td>19.000000</td>\n",
              "      <td>2000.0</td>\n",
              "      <td>45000.000000</td>\n",
              "      <td>2500.0</td>\n",
              "      <td>42500.000000</td>\n",
              "      <td>320.000000</td>\n",
              "    </tr>\n",
              "    <tr>\n",
              "      <th>max</th>\n",
              "      <td>25.000000</td>\n",
              "      <td>2000.0</td>\n",
              "      <td>50000.000000</td>\n",
              "      <td>2500.0</td>\n",
              "      <td>47500.000000</td>\n",
              "      <td>400.000000</td>\n",
              "    </tr>\n",
              "  </tbody>\n",
              "</table>\n",
              "</div>"
            ],
            "text/plain": [
              "           Month  ...  Amount returned to everyone in the group\n",
              "count  25.000000  ...                                 25.000000\n",
              "mean   13.000000  ...                                248.000000\n",
              "std     7.359801  ...                                114.309521\n",
              "min     1.000000  ...                                  0.000000\n",
              "25%     7.000000  ...                                200.000000\n",
              "50%    13.000000  ...                                280.000000\n",
              "75%    19.000000  ...                                320.000000\n",
              "max    25.000000  ...                                400.000000\n",
              "\n",
              "[8 rows x 6 columns]"
            ]
          },
          "metadata": {
            "tags": []
          },
          "execution_count": 3
        }
      ]
    },
    {
      "cell_type": "code",
      "metadata": {
        "id": "bQZN0-yax2KS",
        "colab_type": "code",
        "colab": {
          "base_uri": "https://localhost:8080/",
          "height": 34
        },
        "outputId": "10f08592-5eba-4308-9f1c-6ce9d0ec30a1"
      },
      "source": [
        "data.shape"
      ],
      "execution_count": 4,
      "outputs": [
        {
          "output_type": "execute_result",
          "data": {
            "text/plain": [
              "(25, 6)"
            ]
          },
          "metadata": {
            "tags": []
          },
          "execution_count": 4
        }
      ]
    },
    {
      "cell_type": "markdown",
      "metadata": {
        "id": "w1f718azGfYB",
        "colab_type": "text"
      },
      "source": [
        "## Dropping column because it's not important in this calculation"
      ]
    },
    {
      "cell_type": "code",
      "metadata": {
        "id": "olvpTOFP6rg7",
        "colab_type": "code",
        "colab": {
          "base_uri": "https://localhost:8080/",
          "height": 787
        },
        "outputId": "b87c53e1-2c72-4c5e-a8fe-7bf353cc7ae7"
      },
      "source": [
        "data.drop(['Chit fund organizer commission'], axis=1)"
      ],
      "execution_count": 5,
      "outputs": [
        {
          "output_type": "execute_result",
          "data": {
            "text/html": [
              "<div>\n",
              "<style scoped>\n",
              "    .dataframe tbody tr th:only-of-type {\n",
              "        vertical-align: middle;\n",
              "    }\n",
              "\n",
              "    .dataframe tbody tr th {\n",
              "        vertical-align: top;\n",
              "    }\n",
              "\n",
              "    .dataframe thead th {\n",
              "        text-align: right;\n",
              "    }\n",
              "</style>\n",
              "<table border=\"1\" class=\"dataframe\">\n",
              "  <thead>\n",
              "    <tr style=\"text-align: right;\">\n",
              "      <th></th>\n",
              "      <th>Month</th>\n",
              "      <th>Contribution</th>\n",
              "      <th>Amount won by the bidder</th>\n",
              "      <th>Net amount recd by Bid winner</th>\n",
              "      <th>Amount returned to everyone in the group</th>\n",
              "    </tr>\n",
              "  </thead>\n",
              "  <tbody>\n",
              "    <tr>\n",
              "      <th>0</th>\n",
              "      <td>1</td>\n",
              "      <td>2000</td>\n",
              "      <td>40000</td>\n",
              "      <td>37500</td>\n",
              "      <td>400</td>\n",
              "    </tr>\n",
              "    <tr>\n",
              "      <th>1</th>\n",
              "      <td>2</td>\n",
              "      <td>2000</td>\n",
              "      <td>42000</td>\n",
              "      <td>39500</td>\n",
              "      <td>320</td>\n",
              "    </tr>\n",
              "    <tr>\n",
              "      <th>2</th>\n",
              "      <td>3</td>\n",
              "      <td>2000</td>\n",
              "      <td>45000</td>\n",
              "      <td>42500</td>\n",
              "      <td>200</td>\n",
              "    </tr>\n",
              "    <tr>\n",
              "      <th>3</th>\n",
              "      <td>4</td>\n",
              "      <td>2000</td>\n",
              "      <td>48000</td>\n",
              "      <td>45500</td>\n",
              "      <td>80</td>\n",
              "    </tr>\n",
              "    <tr>\n",
              "      <th>4</th>\n",
              "      <td>5</td>\n",
              "      <td>2000</td>\n",
              "      <td>40000</td>\n",
              "      <td>37500</td>\n",
              "      <td>400</td>\n",
              "    </tr>\n",
              "    <tr>\n",
              "      <th>5</th>\n",
              "      <td>6</td>\n",
              "      <td>2000</td>\n",
              "      <td>42000</td>\n",
              "      <td>39500</td>\n",
              "      <td>320</td>\n",
              "    </tr>\n",
              "    <tr>\n",
              "      <th>6</th>\n",
              "      <td>7</td>\n",
              "      <td>2000</td>\n",
              "      <td>43000</td>\n",
              "      <td>40500</td>\n",
              "      <td>280</td>\n",
              "    </tr>\n",
              "    <tr>\n",
              "      <th>7</th>\n",
              "      <td>8</td>\n",
              "      <td>2000</td>\n",
              "      <td>44000</td>\n",
              "      <td>41500</td>\n",
              "      <td>240</td>\n",
              "    </tr>\n",
              "    <tr>\n",
              "      <th>8</th>\n",
              "      <td>9</td>\n",
              "      <td>2000</td>\n",
              "      <td>40000</td>\n",
              "      <td>37500</td>\n",
              "      <td>400</td>\n",
              "    </tr>\n",
              "    <tr>\n",
              "      <th>9</th>\n",
              "      <td>10</td>\n",
              "      <td>2000</td>\n",
              "      <td>42000</td>\n",
              "      <td>39500</td>\n",
              "      <td>320</td>\n",
              "    </tr>\n",
              "    <tr>\n",
              "      <th>10</th>\n",
              "      <td>11</td>\n",
              "      <td>2000</td>\n",
              "      <td>45000</td>\n",
              "      <td>42500</td>\n",
              "      <td>200</td>\n",
              "    </tr>\n",
              "    <tr>\n",
              "      <th>11</th>\n",
              "      <td>12</td>\n",
              "      <td>2000</td>\n",
              "      <td>48000</td>\n",
              "      <td>45500</td>\n",
              "      <td>80</td>\n",
              "    </tr>\n",
              "    <tr>\n",
              "      <th>12</th>\n",
              "      <td>13</td>\n",
              "      <td>2000</td>\n",
              "      <td>40000</td>\n",
              "      <td>37500</td>\n",
              "      <td>400</td>\n",
              "    </tr>\n",
              "    <tr>\n",
              "      <th>13</th>\n",
              "      <td>14</td>\n",
              "      <td>2000</td>\n",
              "      <td>42000</td>\n",
              "      <td>39500</td>\n",
              "      <td>320</td>\n",
              "    </tr>\n",
              "    <tr>\n",
              "      <th>14</th>\n",
              "      <td>15</td>\n",
              "      <td>2000</td>\n",
              "      <td>43000</td>\n",
              "      <td>40500</td>\n",
              "      <td>280</td>\n",
              "    </tr>\n",
              "    <tr>\n",
              "      <th>15</th>\n",
              "      <td>16</td>\n",
              "      <td>2000</td>\n",
              "      <td>43000</td>\n",
              "      <td>40500</td>\n",
              "      <td>280</td>\n",
              "    </tr>\n",
              "    <tr>\n",
              "      <th>16</th>\n",
              "      <td>17</td>\n",
              "      <td>2000</td>\n",
              "      <td>41000</td>\n",
              "      <td>38500</td>\n",
              "      <td>360</td>\n",
              "    </tr>\n",
              "    <tr>\n",
              "      <th>17</th>\n",
              "      <td>18</td>\n",
              "      <td>2000</td>\n",
              "      <td>42000</td>\n",
              "      <td>39500</td>\n",
              "      <td>320</td>\n",
              "    </tr>\n",
              "    <tr>\n",
              "      <th>18</th>\n",
              "      <td>19</td>\n",
              "      <td>2000</td>\n",
              "      <td>45000</td>\n",
              "      <td>42500</td>\n",
              "      <td>200</td>\n",
              "    </tr>\n",
              "    <tr>\n",
              "      <th>19</th>\n",
              "      <td>20</td>\n",
              "      <td>2000</td>\n",
              "      <td>45000</td>\n",
              "      <td>42500</td>\n",
              "      <td>200</td>\n",
              "    </tr>\n",
              "    <tr>\n",
              "      <th>20</th>\n",
              "      <td>21</td>\n",
              "      <td>2000</td>\n",
              "      <td>44000</td>\n",
              "      <td>41500</td>\n",
              "      <td>240</td>\n",
              "    </tr>\n",
              "    <tr>\n",
              "      <th>21</th>\n",
              "      <td>22</td>\n",
              "      <td>2000</td>\n",
              "      <td>46000</td>\n",
              "      <td>43500</td>\n",
              "      <td>160</td>\n",
              "    </tr>\n",
              "    <tr>\n",
              "      <th>22</th>\n",
              "      <td>23</td>\n",
              "      <td>2000</td>\n",
              "      <td>47000</td>\n",
              "      <td>44500</td>\n",
              "      <td>120</td>\n",
              "    </tr>\n",
              "    <tr>\n",
              "      <th>23</th>\n",
              "      <td>24</td>\n",
              "      <td>2000</td>\n",
              "      <td>48000</td>\n",
              "      <td>45500</td>\n",
              "      <td>80</td>\n",
              "    </tr>\n",
              "    <tr>\n",
              "      <th>24</th>\n",
              "      <td>25</td>\n",
              "      <td>2000</td>\n",
              "      <td>50000</td>\n",
              "      <td>47500</td>\n",
              "      <td>0</td>\n",
              "    </tr>\n",
              "  </tbody>\n",
              "</table>\n",
              "</div>"
            ],
            "text/plain": [
              "    Month  ...  Amount returned to everyone in the group\n",
              "0       1  ...                                       400\n",
              "1       2  ...                                       320\n",
              "2       3  ...                                       200\n",
              "3       4  ...                                        80\n",
              "4       5  ...                                       400\n",
              "5       6  ...                                       320\n",
              "6       7  ...                                       280\n",
              "7       8  ...                                       240\n",
              "8       9  ...                                       400\n",
              "9      10  ...                                       320\n",
              "10     11  ...                                       200\n",
              "11     12  ...                                        80\n",
              "12     13  ...                                       400\n",
              "13     14  ...                                       320\n",
              "14     15  ...                                       280\n",
              "15     16  ...                                       280\n",
              "16     17  ...                                       360\n",
              "17     18  ...                                       320\n",
              "18     19  ...                                       200\n",
              "19     20  ...                                       200\n",
              "20     21  ...                                       240\n",
              "21     22  ...                                       160\n",
              "22     23  ...                                       120\n",
              "23     24  ...                                        80\n",
              "24     25  ...                                         0\n",
              "\n",
              "[25 rows x 5 columns]"
            ]
          },
          "metadata": {
            "tags": []
          },
          "execution_count": 5
        }
      ]
    },
    {
      "cell_type": "markdown",
      "metadata": {
        "id": "mSBovc1mM_CG",
        "colab_type": "text"
      },
      "source": [
        "## Check if any null value is there."
      ]
    },
    {
      "cell_type": "code",
      "metadata": {
        "id": "MOKKCvYOyISH",
        "colab_type": "code",
        "colab": {
          "base_uri": "https://localhost:8080/",
          "height": 140
        },
        "outputId": "78b4a358-df6b-4f83-a16a-27bd65711c5f"
      },
      "source": [
        "data.isna().sum()"
      ],
      "execution_count": 6,
      "outputs": [
        {
          "output_type": "execute_result",
          "data": {
            "text/plain": [
              "Month                                       0\n",
              "Contribution                                0\n",
              "Amount won by the bidder                    0\n",
              "Chit fund organizer commission              0\n",
              "Net amount recd by Bid winner               0\n",
              "Amount returned to everyone in the group    0\n",
              "dtype: int64"
            ]
          },
          "metadata": {
            "tags": []
          },
          "execution_count": 6
        }
      ]
    },
    {
      "cell_type": "markdown",
      "metadata": {
        "id": "LXB5UD5SGom_",
        "colab_type": "text"
      },
      "source": [
        "## Calculating real Contribution contributed by each member of  fund for every month."
      ]
    },
    {
      "cell_type": "code",
      "metadata": {
        "id": "Bk5rfKXDzIF9",
        "colab_type": "code",
        "colab": {
          "base_uri": "https://localhost:8080/",
          "height": 212
        },
        "outputId": "44603e2e-b89b-4c0a-9732-dbabd95d4968"
      },
      "source": [
        "data[\"Real Contribution\"] = data['Contribution'] - data[\"Amount returned to everyone in the group\"]\n",
        "data.head()"
      ],
      "execution_count": 7,
      "outputs": [
        {
          "output_type": "execute_result",
          "data": {
            "text/html": [
              "<div>\n",
              "<style scoped>\n",
              "    .dataframe tbody tr th:only-of-type {\n",
              "        vertical-align: middle;\n",
              "    }\n",
              "\n",
              "    .dataframe tbody tr th {\n",
              "        vertical-align: top;\n",
              "    }\n",
              "\n",
              "    .dataframe thead th {\n",
              "        text-align: right;\n",
              "    }\n",
              "</style>\n",
              "<table border=\"1\" class=\"dataframe\">\n",
              "  <thead>\n",
              "    <tr style=\"text-align: right;\">\n",
              "      <th></th>\n",
              "      <th>Month</th>\n",
              "      <th>Contribution</th>\n",
              "      <th>Amount won by the bidder</th>\n",
              "      <th>Chit fund organizer commission</th>\n",
              "      <th>Net amount recd by Bid winner</th>\n",
              "      <th>Amount returned to everyone in the group</th>\n",
              "      <th>Real Contribution</th>\n",
              "    </tr>\n",
              "  </thead>\n",
              "  <tbody>\n",
              "    <tr>\n",
              "      <th>0</th>\n",
              "      <td>1</td>\n",
              "      <td>2000</td>\n",
              "      <td>40000</td>\n",
              "      <td>2500</td>\n",
              "      <td>37500</td>\n",
              "      <td>400</td>\n",
              "      <td>1600</td>\n",
              "    </tr>\n",
              "    <tr>\n",
              "      <th>1</th>\n",
              "      <td>2</td>\n",
              "      <td>2000</td>\n",
              "      <td>42000</td>\n",
              "      <td>2500</td>\n",
              "      <td>39500</td>\n",
              "      <td>320</td>\n",
              "      <td>1680</td>\n",
              "    </tr>\n",
              "    <tr>\n",
              "      <th>2</th>\n",
              "      <td>3</td>\n",
              "      <td>2000</td>\n",
              "      <td>45000</td>\n",
              "      <td>2500</td>\n",
              "      <td>42500</td>\n",
              "      <td>200</td>\n",
              "      <td>1800</td>\n",
              "    </tr>\n",
              "    <tr>\n",
              "      <th>3</th>\n",
              "      <td>4</td>\n",
              "      <td>2000</td>\n",
              "      <td>48000</td>\n",
              "      <td>2500</td>\n",
              "      <td>45500</td>\n",
              "      <td>80</td>\n",
              "      <td>1920</td>\n",
              "    </tr>\n",
              "    <tr>\n",
              "      <th>4</th>\n",
              "      <td>5</td>\n",
              "      <td>2000</td>\n",
              "      <td>40000</td>\n",
              "      <td>2500</td>\n",
              "      <td>37500</td>\n",
              "      <td>400</td>\n",
              "      <td>1600</td>\n",
              "    </tr>\n",
              "  </tbody>\n",
              "</table>\n",
              "</div>"
            ],
            "text/plain": [
              "   Month  ...  Real Contribution\n",
              "0      1  ...               1600\n",
              "1      2  ...               1680\n",
              "2      3  ...               1800\n",
              "3      4  ...               1920\n",
              "4      5  ...               1600\n",
              "\n",
              "[5 rows x 7 columns]"
            ]
          },
          "metadata": {
            "tags": []
          },
          "execution_count": 7
        }
      ]
    },
    {
      "cell_type": "markdown",
      "metadata": {
        "id": "x2WiUuNIIaN9",
        "colab_type": "text"
      },
      "source": [
        "## Calculating real Contribution contributed by each member of the chit fund throughout 25 months."
      ]
    },
    {
      "cell_type": "code",
      "metadata": {
        "id": "Gay9oiSUzwLz",
        "colab_type": "code",
        "colab": {
          "base_uri": "https://localhost:8080/",
          "height": 34
        },
        "outputId": "ffe910d0-228f-4448-8a1b-0d404d7aabfb"
      },
      "source": [
        "final = data[\"Real Contribution\"].sum()\n",
        "final"
      ],
      "execution_count": 8,
      "outputs": [
        {
          "output_type": "execute_result",
          "data": {
            "text/plain": [
              "43800"
            ]
          },
          "metadata": {
            "tags": []
          },
          "execution_count": 8
        }
      ]
    },
    {
      "cell_type": "markdown",
      "metadata": {
        "id": "ibJfvAKqIlkb",
        "colab_type": "text"
      },
      "source": [
        "Calculating Return/Net Profit obtained by the Bid Winners for every month\n",
        "### Return = Net amount received by a participant - total amount contributed by a participant"
      ]
    },
    {
      "cell_type": "code",
      "metadata": {
        "id": "92jLCC1d14b-",
        "colab_type": "code",
        "colab": {
          "base_uri": "https://localhost:8080/",
          "height": 212
        },
        "outputId": "a77402de-86d7-4e0b-dfc3-8d3ffc3bf942"
      },
      "source": [
        "data[\"return\"] = data[\"Net amount recd by Bid winner\"] - final\n",
        "data.head()"
      ],
      "execution_count": 9,
      "outputs": [
        {
          "output_type": "execute_result",
          "data": {
            "text/html": [
              "<div>\n",
              "<style scoped>\n",
              "    .dataframe tbody tr th:only-of-type {\n",
              "        vertical-align: middle;\n",
              "    }\n",
              "\n",
              "    .dataframe tbody tr th {\n",
              "        vertical-align: top;\n",
              "    }\n",
              "\n",
              "    .dataframe thead th {\n",
              "        text-align: right;\n",
              "    }\n",
              "</style>\n",
              "<table border=\"1\" class=\"dataframe\">\n",
              "  <thead>\n",
              "    <tr style=\"text-align: right;\">\n",
              "      <th></th>\n",
              "      <th>Month</th>\n",
              "      <th>Contribution</th>\n",
              "      <th>Amount won by the bidder</th>\n",
              "      <th>Chit fund organizer commission</th>\n",
              "      <th>Net amount recd by Bid winner</th>\n",
              "      <th>Amount returned to everyone in the group</th>\n",
              "      <th>Real Contribution</th>\n",
              "      <th>return</th>\n",
              "    </tr>\n",
              "  </thead>\n",
              "  <tbody>\n",
              "    <tr>\n",
              "      <th>0</th>\n",
              "      <td>1</td>\n",
              "      <td>2000</td>\n",
              "      <td>40000</td>\n",
              "      <td>2500</td>\n",
              "      <td>37500</td>\n",
              "      <td>400</td>\n",
              "      <td>1600</td>\n",
              "      <td>-6300</td>\n",
              "    </tr>\n",
              "    <tr>\n",
              "      <th>1</th>\n",
              "      <td>2</td>\n",
              "      <td>2000</td>\n",
              "      <td>42000</td>\n",
              "      <td>2500</td>\n",
              "      <td>39500</td>\n",
              "      <td>320</td>\n",
              "      <td>1680</td>\n",
              "      <td>-4300</td>\n",
              "    </tr>\n",
              "    <tr>\n",
              "      <th>2</th>\n",
              "      <td>3</td>\n",
              "      <td>2000</td>\n",
              "      <td>45000</td>\n",
              "      <td>2500</td>\n",
              "      <td>42500</td>\n",
              "      <td>200</td>\n",
              "      <td>1800</td>\n",
              "      <td>-1300</td>\n",
              "    </tr>\n",
              "    <tr>\n",
              "      <th>3</th>\n",
              "      <td>4</td>\n",
              "      <td>2000</td>\n",
              "      <td>48000</td>\n",
              "      <td>2500</td>\n",
              "      <td>45500</td>\n",
              "      <td>80</td>\n",
              "      <td>1920</td>\n",
              "      <td>1700</td>\n",
              "    </tr>\n",
              "    <tr>\n",
              "      <th>4</th>\n",
              "      <td>5</td>\n",
              "      <td>2000</td>\n",
              "      <td>40000</td>\n",
              "      <td>2500</td>\n",
              "      <td>37500</td>\n",
              "      <td>400</td>\n",
              "      <td>1600</td>\n",
              "      <td>-6300</td>\n",
              "    </tr>\n",
              "  </tbody>\n",
              "</table>\n",
              "</div>"
            ],
            "text/plain": [
              "   Month  Contribution  ...  Real Contribution  return\n",
              "0      1          2000  ...               1600   -6300\n",
              "1      2          2000  ...               1680   -4300\n",
              "2      3          2000  ...               1800   -1300\n",
              "3      4          2000  ...               1920    1700\n",
              "4      5          2000  ...               1600   -6300\n",
              "\n",
              "[5 rows x 8 columns]"
            ]
          },
          "metadata": {
            "tags": []
          },
          "execution_count": 9
        }
      ]
    },
    {
      "cell_type": "markdown",
      "metadata": {
        "id": "c5hWlACxI-7g",
        "colab_type": "text"
      },
      "source": [
        "## Calculating Return Percentage obtained by the Bid Winners for every month"
      ]
    },
    {
      "cell_type": "code",
      "metadata": {
        "id": "3Z0m4AVf2iXD",
        "colab_type": "code",
        "colab": {
          "base_uri": "https://localhost:8080/",
          "height": 229
        },
        "outputId": "e320e2c1-bb22-47c5-cbfc-09bd070976df"
      },
      "source": [
        "data[\"% return(profit/loss)\"] = (data[\"return\"]/final)*100\n",
        "data.head()"
      ],
      "execution_count": 10,
      "outputs": [
        {
          "output_type": "execute_result",
          "data": {
            "text/html": [
              "<div>\n",
              "<style scoped>\n",
              "    .dataframe tbody tr th:only-of-type {\n",
              "        vertical-align: middle;\n",
              "    }\n",
              "\n",
              "    .dataframe tbody tr th {\n",
              "        vertical-align: top;\n",
              "    }\n",
              "\n",
              "    .dataframe thead th {\n",
              "        text-align: right;\n",
              "    }\n",
              "</style>\n",
              "<table border=\"1\" class=\"dataframe\">\n",
              "  <thead>\n",
              "    <tr style=\"text-align: right;\">\n",
              "      <th></th>\n",
              "      <th>Month</th>\n",
              "      <th>Contribution</th>\n",
              "      <th>Amount won by the bidder</th>\n",
              "      <th>Chit fund organizer commission</th>\n",
              "      <th>Net amount recd by Bid winner</th>\n",
              "      <th>Amount returned to everyone in the group</th>\n",
              "      <th>Real Contribution</th>\n",
              "      <th>return</th>\n",
              "      <th>% return(profit/loss)</th>\n",
              "    </tr>\n",
              "  </thead>\n",
              "  <tbody>\n",
              "    <tr>\n",
              "      <th>0</th>\n",
              "      <td>1</td>\n",
              "      <td>2000</td>\n",
              "      <td>40000</td>\n",
              "      <td>2500</td>\n",
              "      <td>37500</td>\n",
              "      <td>400</td>\n",
              "      <td>1600</td>\n",
              "      <td>-6300</td>\n",
              "      <td>-14.383562</td>\n",
              "    </tr>\n",
              "    <tr>\n",
              "      <th>1</th>\n",
              "      <td>2</td>\n",
              "      <td>2000</td>\n",
              "      <td>42000</td>\n",
              "      <td>2500</td>\n",
              "      <td>39500</td>\n",
              "      <td>320</td>\n",
              "      <td>1680</td>\n",
              "      <td>-4300</td>\n",
              "      <td>-9.817352</td>\n",
              "    </tr>\n",
              "    <tr>\n",
              "      <th>2</th>\n",
              "      <td>3</td>\n",
              "      <td>2000</td>\n",
              "      <td>45000</td>\n",
              "      <td>2500</td>\n",
              "      <td>42500</td>\n",
              "      <td>200</td>\n",
              "      <td>1800</td>\n",
              "      <td>-1300</td>\n",
              "      <td>-2.968037</td>\n",
              "    </tr>\n",
              "    <tr>\n",
              "      <th>3</th>\n",
              "      <td>4</td>\n",
              "      <td>2000</td>\n",
              "      <td>48000</td>\n",
              "      <td>2500</td>\n",
              "      <td>45500</td>\n",
              "      <td>80</td>\n",
              "      <td>1920</td>\n",
              "      <td>1700</td>\n",
              "      <td>3.881279</td>\n",
              "    </tr>\n",
              "    <tr>\n",
              "      <th>4</th>\n",
              "      <td>5</td>\n",
              "      <td>2000</td>\n",
              "      <td>40000</td>\n",
              "      <td>2500</td>\n",
              "      <td>37500</td>\n",
              "      <td>400</td>\n",
              "      <td>1600</td>\n",
              "      <td>-6300</td>\n",
              "      <td>-14.383562</td>\n",
              "    </tr>\n",
              "  </tbody>\n",
              "</table>\n",
              "</div>"
            ],
            "text/plain": [
              "   Month  Contribution  ...  return  % return(profit/loss)\n",
              "0      1          2000  ...   -6300             -14.383562\n",
              "1      2          2000  ...   -4300              -9.817352\n",
              "2      3          2000  ...   -1300              -2.968037\n",
              "3      4          2000  ...    1700               3.881279\n",
              "4      5          2000  ...   -6300             -14.383562\n",
              "\n",
              "[5 rows x 9 columns]"
            ]
          },
          "metadata": {
            "tags": []
          },
          "execution_count": 10
        }
      ]
    },
    {
      "cell_type": "markdown",
      "metadata": {
        "id": "A9PCyiJaJgCP",
        "colab_type": "text"
      },
      "source": [
        "# Q1. What is the Annualized  Return of the person who bids in the last month ?\n",
        "## ((1 + percentage return(profit/loss)%)^(12/months of chit fund is hold) - 1) * 100\n",
        "Source: https://www.investopedia.com/terms/a/annualized-total-return.asp)"
      ]
    },
    {
      "cell_type": "code",
      "metadata": {
        "id": "bw8YWDxR21KF",
        "colab_type": "code",
        "colab": {
          "base_uri": "https://localhost:8080/",
          "height": 193
        },
        "outputId": "d45e38a0-4a32-4ab7-de5f-b3e91503d02b"
      },
      "source": [
        "#last month\n",
        "data.iloc[24]"
      ],
      "execution_count": 11,
      "outputs": [
        {
          "output_type": "execute_result",
          "data": {
            "text/plain": [
              "Month                                          25.000000\n",
              "Contribution                                 2000.000000\n",
              "Amount won by the bidder                    50000.000000\n",
              "Chit fund organizer commission               2500.000000\n",
              "Net amount recd by Bid winner               47500.000000\n",
              "Amount returned to everyone in the group        0.000000\n",
              "Real Contribution                            2000.000000\n",
              "return                                       3700.000000\n",
              "% return(profit/loss)                           8.447489\n",
              "Name: 24, dtype: float64"
            ]
          },
          "metadata": {
            "tags": []
          },
          "execution_count": 11
        }
      ]
    },
    {
      "cell_type": "code",
      "metadata": {
        "id": "gOOSIQZq4yob",
        "colab_type": "code",
        "colab": {
          "base_uri": "https://localhost:8080/",
          "height": 34
        },
        "outputId": "2d9831fb-9e87-4596-88c9-de3703fc3eb8"
      },
      "source": [
        "last_month =((((1 + (data[\"% return(profit/loss)\"][24])/100)) ** (12/25)) - 1) * 100\n",
        "last_month"
      ],
      "execution_count": 12,
      "outputs": [
        {
          "output_type": "execute_result",
          "data": {
            "text/plain": [
              "3.969357358648673"
            ]
          },
          "metadata": {
            "tags": []
          },
          "execution_count": 12
        }
      ]
    },
    {
      "cell_type": "markdown",
      "metadata": {
        "id": "ep_ELg4eLRSS",
        "colab_type": "text"
      },
      "source": [
        "Annualized return of the person who bids in last month is a profit of 3.97%"
      ]
    },
    {
      "cell_type": "markdown",
      "metadata": {
        "id": "BOqTf36nKu5J",
        "colab_type": "text"
      },
      "source": [
        "# Q2. What is the Annualized Return of the person who bids in the first month ?\n",
        "## ((1 + percentage return(profit/loss)%)^(12/months of chit fund is hold) - 1) * 100\n",
        "Source: https://www.investopedia.com/terms/a/annualized-total-return.asp)"
      ]
    },
    {
      "cell_type": "code",
      "metadata": {
        "id": "8o6quwTM5e6K",
        "colab_type": "code",
        "colab": {
          "base_uri": "https://localhost:8080/",
          "height": 193
        },
        "outputId": "6f88e80f-b142-44c5-a90a-8b73d675524f"
      },
      "source": [
        "#first month\n",
        "data.iloc[0]"
      ],
      "execution_count": 13,
      "outputs": [
        {
          "output_type": "execute_result",
          "data": {
            "text/plain": [
              "Month                                           1.000000\n",
              "Contribution                                 2000.000000\n",
              "Amount won by the bidder                    40000.000000\n",
              "Chit fund organizer commission               2500.000000\n",
              "Net amount recd by Bid winner               37500.000000\n",
              "Amount returned to everyone in the group      400.000000\n",
              "Real Contribution                            1600.000000\n",
              "return                                      -6300.000000\n",
              "% return(profit/loss)                         -14.383562\n",
              "Name: 0, dtype: float64"
            ]
          },
          "metadata": {
            "tags": []
          },
          "execution_count": 13
        }
      ]
    },
    {
      "cell_type": "code",
      "metadata": {
        "id": "iD-9vECT5pb8",
        "colab_type": "code",
        "colab": {
          "base_uri": "https://localhost:8080/",
          "height": 34
        },
        "outputId": "ccc162f8-bb5e-45cb-a99f-13ec729f1593"
      },
      "source": [
        "first_month =((((1 + (data[\"% return(profit/loss)\"][0])/100)) ** (12/25)) - 1) * 100\n",
        "first_month"
      ],
      "execution_count": 14,
      "outputs": [
        {
          "output_type": "execute_result",
          "data": {
            "text/plain": [
              "-7.183019602665885"
            ]
          },
          "metadata": {
            "tags": []
          },
          "execution_count": 14
        }
      ]
    },
    {
      "cell_type": "markdown",
      "metadata": {
        "id": "SRYmJDfMK8dG",
        "colab_type": "text"
      },
      "source": [
        "Annualized return of the person who bids in first month is a loss of 7.18 %"
      ]
    },
    {
      "cell_type": "markdown",
      "metadata": {
        "id": "BPGcIQU3LlXu",
        "colab_type": "text"
      },
      "source": [
        "## Q3. calculates the annualized return of chit fund participant?\n",
        "##Show the Return % for each month's bid winner."
      ]
    },
    {
      "cell_type": "code",
      "metadata": {
        "id": "2sjx0Z2_5344",
        "colab_type": "code",
        "colab": {
          "base_uri": "https://localhost:8080/",
          "height": 474
        },
        "outputId": "a2688ed6-9afb-4ce2-b7ec-9a7ed311f346"
      },
      "source": [
        "#return % of each month\n",
        "data[\"% return(profit/loss)\"]"
      ],
      "execution_count": 15,
      "outputs": [
        {
          "output_type": "execute_result",
          "data": {
            "text/plain": [
              "0    -14.383562\n",
              "1     -9.817352\n",
              "2     -2.968037\n",
              "3      3.881279\n",
              "4    -14.383562\n",
              "5     -9.817352\n",
              "6     -7.534247\n",
              "7     -5.251142\n",
              "8    -14.383562\n",
              "9     -9.817352\n",
              "10    -2.968037\n",
              "11     3.881279\n",
              "12   -14.383562\n",
              "13    -9.817352\n",
              "14    -7.534247\n",
              "15    -7.534247\n",
              "16   -12.100457\n",
              "17    -9.817352\n",
              "18    -2.968037\n",
              "19    -2.968037\n",
              "20    -5.251142\n",
              "21    -0.684932\n",
              "22     1.598174\n",
              "23     3.881279\n",
              "24     8.447489\n",
              "Name: % return(profit/loss), dtype: float64"
            ]
          },
          "metadata": {
            "tags": []
          },
          "execution_count": 15
        }
      ]
    },
    {
      "cell_type": "code",
      "metadata": {
        "id": "53rjdc666X-C",
        "colab_type": "code",
        "colab": {
          "base_uri": "https://localhost:8080/",
          "height": 301
        },
        "outputId": "76ffe2cf-0a22-493c-d690-3b6ccd8977c1"
      },
      "source": [
        "sns.lineplot(x=\"Month\", y=\"% return(profit/loss)\", data=data)"
      ],
      "execution_count": 16,
      "outputs": [
        {
          "output_type": "execute_result",
          "data": {
            "text/plain": [
              "<matplotlib.axes._subplots.AxesSubplot at 0x7f1ed4e8b4e0>"
            ]
          },
          "metadata": {
            "tags": []
          },
          "execution_count": 16
        },
        {
          "output_type": "display_data",
          "data": {
            "image/png": "[encoded data removed]",
            "text/plain": [
              "<Figure size 432x288 with 1 Axes>"
            ]
          },
          "metadata": {
            "tags": []
          }
        }
      ]
    },
    {
      "cell_type": "markdown",
      "metadata": {
        "id": "5GHWdBF083k2",
        "colab_type": "text"
      },
      "source": [
        " The return % increases as the time duration(month) of borrowing money increases"
      ]
    },
    {
      "cell_type": "code",
      "metadata": {
        "id": "m9-eLVgH7obu",
        "colab_type": "code",
        "colab": {
          "base_uri": "https://localhost:8080/",
          "height": 301
        },
        "outputId": "66971f80-2c6f-4e67-a421-4718a1f74d74"
      },
      "source": [
        "sns.lineplot(data[\"Month\"], data[\"% return(profit/loss)\"], color = 'red')\n",
        "sns.lineplot(data[\"Month\"], data[\"Net amount recd by Bid winner\"]/1000, color = 'blue')\n",
        "plt.legend((\"Return(profit/loss) %\", \"Net Amount Received in 1000s\"))"
      ],
      "execution_count": 17,
      "outputs": [
        {
          "output_type": "execute_result",
          "data": {
            "text/plain": [
              "<matplotlib.legend.Legend at 0x7f1ed25c22b0>"
            ]
          },
          "metadata": {
            "tags": []
          },
          "execution_count": 17
        },
        {
          "output_type": "display_data",
          "data": {
            "image/png": "[encoded data removed]",
            "text/plain": [
              "<Figure size 432x288 with 1 Axes>"
            ]
          },
          "metadata": {
            "tags": []
          }
        }
      ]
    },
    {
      "cell_type": "markdown",
      "metadata": {
        "id": "uWBl7EYdMxdL",
        "colab_type": "text"
      },
      "source": [
        "Return % is related with net amount receive"
      ]
    },
    {
      "cell_type": "code",
      "metadata": {
        "id": "8it5j8dv9uGD",
        "colab_type": "code",
        "colab": {}
      },
      "source": [
        ""
      ],
      "execution_count": 0,
      "outputs": []
    }
  ]
}